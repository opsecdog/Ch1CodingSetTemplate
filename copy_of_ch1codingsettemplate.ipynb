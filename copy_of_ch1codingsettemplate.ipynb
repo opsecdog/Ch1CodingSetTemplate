{
  "nbformat": 4,
  "nbformat_minor": 0,
  "metadata": {
    "colab": {
      "provenance": [],
      "include_colab_link": true
    },
    "kernelspec": {
      "name": "python3",
      "display_name": "Python 3"
    },
    "language_info": {
      "name": "python"
    }
  },
  "cells": [
    {
      "cell_type": "markdown",
      "metadata": {
        "id": "view-in-github",
        "colab_type": "text"
      },
      "source": [
        "<a href=\"https://colab.research.google.com/github/opsecdog/Ch1CodingSetTemplate/blob/main/copy_of_ch1codingsettemplate.ipynb\" target=\"_parent\"><img src=\"https://colab.research.google.com/assets/colab-badge.svg\" alt=\"Open In Colab\"/></a>"
      ]
    },
    {
      "cell_type": "markdown",
      "source": [
        "# Chapter **1** Coding Set\n",
        "\n",
        "**Remember to save a copy of this template BEFORE YOU START WORKING :)**\n",
        "\n",
        "Work completed by [student name].\n",
        "\n",
        "If you struggle with a problem for an extended period of time, remember you can go comment on two other submissions now (seeing other student work helps), or you can post in our discussion forum for questions, which can also earn you extra credit."
      ],
      "metadata": {
        "id": "V_9gU-dva4Xx"
      }
    },
    {
      "cell_type": "markdown",
      "source": [
        "## Programming Exercises"
      ],
      "metadata": {
        "id": "2b2z_elQf2qP"
      }
    },
    {
      "cell_type": "markdown",
      "source": [
        "### Problem A (Not in texbook)\n",
        "\n",
        "#### Question Text\n",
        "\n",
        "Try entering the following code in the cell below and then press SHIFT + ENTER -or- click the \"Run cell\" button:\n",
        "\n",
        "```\n",
        "print('This is a test of running Python code within a notebook.')\n",
        "```\n",
        "\n",
        "\n",
        "#### High-Level Overview\n",
        "\n",
        "It runs the code perfectly and it prints what it says inside the brackets. So it doesn't give me any errors.\n"
      ],
      "metadata": {
        "id": "klCvdzHvf74V"
      }
    },
    {
      "cell_type": "code",
      "source": [
        "# add your code to this cell\n",
        "# remember to include comments like this one for every line of code\n",
        "# remember to \"Run cell\" once you're done, excecuting your code so the output is displayed below\n",
        "# just click inside the cell and enter the code below\n",
        "print('This is a test of running Python code within a notebook.')"
      ],
      "metadata": {
        "id": "iQooA6BWlvx5",
        "colab": {
          "base_uri": "https://localhost:8080/"
        },
        "outputId": "b5cb8db3-42f5-48b4-ac96-e0ea0f54825c"
      },
      "execution_count": 1,
      "outputs": [
        {
          "output_type": "stream",
          "name": "stdout",
          "text": [
            "This is a test of running Python code within a notebook.\n"
          ]
        }
      ]
    },
    {
      "cell_type": "markdown",
      "source": [
        "### Problem 3\n",
        "\n",
        "#### Question Text\n",
        "\n",
        "Use what you've learned about the binary numbering system in this chapter to convert by hand (i.e., no Python) the following decimal numbers to binary. Make sure you show all your work to find your answers.\n",
        "\n",
        "```\n",
        " 11\n",
        " 65\n",
        "100\n",
        "255\n",
        "```\n",
        "\n",
        "#### High-Level Overview\n",
        "\n",
        "*In two to three sentences at minimum, walk through your general approach to the problem and identify any particular issues you had.*\n",
        "\n",
        "#### Solution\n",
        "\n",
        "11 to binary\n",
        "\n",
        "11/2 = 5 /2 = 2 /2 = 1 /2 = 0\n",
        "\n",
        "So it is 1011\n",
        "\n",
        "\n",
        "65 to binary\n",
        "\n",
        "65/2 = 32 / 2 = 16 /2 = 8 / 2 = 4 / 2 = 2 / 2 = 1 /2 = 0 with remainder of 1\n",
        "\n",
        "1000001\n",
        "\n",
        "\n",
        "100 to binary\n",
        "\n",
        "100/2 = 50 /2 = 25 /2 = 12 r 1/2 = 6 /2 = 3 /2 = 1 r 1 /2 = 0 r 1\n",
        "\n",
        "\n",
        "So it is 1100100\n",
        "\n",
        "255\n",
        "\n",
        "255/2 = 127 r 1 /2 = 63 r 1 / 2= 31 r 1 / 2 15 r 1 /2 = 7 r 1 / 2 = 3 r 1 / 2 = 1 r 1 / 2 = 0 r 1\n",
        "\n",
        "So it is 11111111\n",
        "\n"
      ],
      "metadata": {
        "id": "VxGugqDyxh_p"
      }
    },
    {
      "cell_type": "code",
      "source": [],
      "metadata": {
        "id": "XHXvcYGIJ3Nh"
      },
      "execution_count": null,
      "outputs": []
    },
    {
      "cell_type": "markdown",
      "source": [
        "### Problem **?**\n",
        "\n",
        "#### Question Text\n",
        "\n",
        "*Paste in the question text below.*\n",
        "\n",
        "#### High-Level Overview\n",
        "\n",
        "*In two to three sentences at minimum, walk through your general approach to the problem and identify any particular issues you had.*\n",
        "\n",
        "[Please double click this cell and update the problem number above, choosing problem 4, 5, or 6 from the Chapter 1 Programming Exercises in\n",
        "your textbook. Then, update the question text. Finally, once you've completed the problem, please replace the high-level overview placeholder text with your own words describing your solution.]\n"
      ],
      "metadata": {
        "id": "kqfebVBKxlKj"
      }
    },
    {
      "cell_type": "markdown",
      "source": [
        "## Helpful Checks\n",
        "\n",
        "1.   Did you include a high-level explanation for each solution?\n",
        "2.   Did you run the cell that includes a final coding solution so the output is saved and easily viewed by others?\n",
        "3.   Are you sharing an editable link (i.e., Share > Anyone with the link > Editor) if using Colaboratory, or did you make more than ten commits if using GitHub?\n",
        "4.   Did you remember to comment on the submissions of two other students?"
      ],
      "metadata": {
        "id": "NxsN1n6_yXlW"
      }
    },
    {
      "cell_type": "code",
      "source": [],
      "metadata": {
        "id": "pwannh81NTQz"
      },
      "execution_count": null,
      "outputs": []
    }
  ]
}